{
  "nbformat": 4,
  "nbformat_minor": 0,
  "metadata": {
    "kernelspec": {
      "display_name": "Python 3",
      "language": "python",
      "name": "python3"
    },
    "language_info": {
      "codemirror_mode": {
        "name": "ipython",
        "version": 3
      },
      "file_extension": ".py",
      "mimetype": "text/x-python",
      "name": "python",
      "nbconvert_exporter": "python",
      "pygments_lexer": "ipython3",
      "version": "3.8.8"
    },
    "colab": {
      "name": "ch#05_StringMethod.ipynb",
      "provenance": [],
      "include_colab_link": true
    }
  },
  "cells": [
    {
      "cell_type": "markdown",
      "metadata": {
        "id": "view-in-github",
        "colab_type": "text"
      },
      "source": [
        "<a href=\"https://colab.research.google.com/github/Gawonshin/Gawonshin.github.io/blob/master/ch_05_StringMethod.ipynb\" target=\"_parent\"><img src=\"https://colab.research.google.com/assets/colab-badge.svg\" alt=\"Open In Colab\"/></a>"
      ]
    },
    {
      "cell_type": "markdown",
      "metadata": {
        "id": "EqSOtoQ32qSK"
      },
      "source": [
        "# 문자열 메소드 사용 방법\n",
        "기본적으로 문자열.메소드() 의 형태로 사용.  \n",
        "문자열 변수를 활용할 수도 있고, 문자열에 직접 사용도 가능"
      ]
    },
    {
      "cell_type": "markdown",
      "metadata": {
        "id": "yY7ZabK02qSN"
      },
      "source": [
        "### ex 1) 문자열 변수 사용"
      ]
    },
    {
      "cell_type": "code",
      "metadata": {
        "id": "TSAmNzRs2qSN"
      },
      "source": [
        "s = 'hello World'\n",
        "s.upper() "
      ],
      "execution_count": null,
      "outputs": []
    },
    {
      "cell_type": "markdown",
      "metadata": {
        "id": "eG6vDz6M2qSO"
      },
      "source": [
        "### ex 2) 문자열에 직접 사용"
      ]
    },
    {
      "cell_type": "code",
      "metadata": {
        "id": "9y-O19672qSP"
      },
      "source": [
        "'hello World'.upper()"
      ],
      "execution_count": null,
      "outputs": []
    },
    {
      "cell_type": "markdown",
      "metadata": {
        "id": "2EGGvXXX2qSP"
      },
      "source": [
        "### 1. 문자열 대, 소문자 치환\n",
        "* upper() - 문자열의 모든 문자를 대문자로 치환\n",
        "* lower() - 문자열의 모든 문자를 소문자로 치환\n",
        "* capitalize() - 문자열의 첫 문자는 대문자로, 나머지 문자들은 소문자로 치환\n",
        "\n",
        " "
      ]
    },
    {
      "cell_type": "code",
      "metadata": {
        "id": "QU1nDJqL2qSP"
      },
      "source": [
        "string = 'hello World'\n",
        "\n",
        "print(string.upper())\n",
        "print(string.lower())\n",
        "print(string.capitalize())"
      ],
      "execution_count": null,
      "outputs": []
    },
    {
      "cell_type": "markdown",
      "metadata": {
        "id": "_Be7x0LF2qSQ"
      },
      "source": [
        "### 2. 문자열에서 부분 문자열 검색 관련\n",
        "* count(str, start, end) - 문자열 내부에 부분 문자열 str의 개수 검색\n",
        "*start와 end에는 검색을 윈하는 첫 인덱스, 마지막 인덱스를 지정.  \n",
        "지정하지 않을 경우, start의 default 값은 0, end의 default의 값은 제일 마지막 인덱스."
      ]
    },
    {
      "cell_type": "code",
      "metadata": {
        "id": "S51RiqyX2qSQ",
        "outputId": "df39bd4d-da8e-4e93-aa61-544bae7bd8b1"
      },
      "source": [
        "string = 'hi hi hi'\n",
        "\n",
        "print(string.count('hi'))\n",
        "print(string.count('HI'))\n",
        "print(string.count('hi', 2))"
      ],
      "execution_count": null,
      "outputs": [
        {
          "name": "stdout",
          "output_type": "stream",
          "text": [
            "3\n",
            "0\n",
            "2\n"
          ]
        }
      ]
    },
    {
      "cell_type": "markdown",
      "metadata": {
        "id": "oV8fWN-F2qSR"
      },
      "source": [
        "* find(str, start, end) / rfind(str, start, end) - 부분 문자열 str의 최초 위치 (첫 글자의 인덱스)를 반환\n",
        "find는 왼쪽부터, rfind는 오른쪽부터 검색.  \n",
        "없을 경우 -1 반환.  \n",
        "start와 end에는 검색을 윈하는 첫 인덱스, 마지막 인덱스를 지정.  \n",
        "지정하지 않을 경우, start의 default 값은 0, end의 default의 값은 제일 마지막 인덱스.\n",
        "\n",
        " "
      ]
    },
    {
      "cell_type": "code",
      "metadata": {
        "id": "oKHt7SYe2qSS"
      },
      "source": [
        "string = 'hi hi hi'\n",
        "\n",
        "print(string.find('hi'))\n",
        "print(string.rfind('hi'))\n",
        "print(string.find('HI'))\n",
        "print(string.find('hi', 1))\n",
        "print(string.rfind('hi', 1, 5))"
      ],
      "execution_count": null,
      "outputs": []
    },
    {
      "cell_type": "markdown",
      "metadata": {
        "id": "YJkcK99z2qSS"
      },
      "source": [
        "* index(str, start, end) - 부분 문자열 str의 최초 위치 (첫 글자의 인덱스)를 반환 (왼쪽 부터 검색)  \n",
        "없을 경우 Value Error 반환  \n",
        "start와 end에는 검색을 윈하는 첫 인덱스, 마지막 인덱스를 지정.  \n",
        "지정하지 않을 경우, start의 default 값은 0, end의 default의 값은 제일 마지막 인덱스."
      ]
    },
    {
      "cell_type": "code",
      "metadata": {
        "id": "PDQamxQd2qSS"
      },
      "source": [
        "string = 'hi hi hi'\n",
        "\n",
        "print(string.index('hi'))\n",
        "print(string.index('hi', 1))\n",
        "print(string.index('HI'))"
      ],
      "execution_count": null,
      "outputs": []
    },
    {
      "cell_type": "markdown",
      "metadata": {
        "id": "eGfq_Bqg2qSS"
      },
      "source": [
        "### 3. 문자열 편집 관련\n",
        "\n",
        "* strip() / lstrip() / rstrip() - 양쪽 / 왼쪽 / 오른쪽의 공백 (스페이스, tab), 줄 바꿈 문자 등을 치환\n",
        "\n",
        " "
      ]
    },
    {
      "cell_type": "code",
      "metadata": {
        "id": "pAR_pXtT2qST"
      },
      "source": [
        "string = ' hi hi hi\\t\\n'\n",
        "\n",
        "print(string.strip())\n",
        "print(string.lstrip())\n",
        "print(string.rstrip())"
      ],
      "execution_count": null,
      "outputs": []
    },
    {
      "cell_type": "markdown",
      "metadata": {
        "id": "DcUctrQS2qST"
      },
      "source": [
        "* replace(a, b) - 부분 문자열 a를 문자열 b로 치환"
      ]
    },
    {
      "cell_type": "code",
      "metadata": {
        "id": "X2f1CyBB2qST"
      },
      "source": [
        "string = 'hello world'\n",
        "\n",
        "print(string.replace('hello', 'hi'))"
      ],
      "execution_count": null,
      "outputs": []
    },
    {
      "cell_type": "markdown",
      "metadata": {
        "id": "jiIbiHxQ2qST"
      },
      "source": [
        "* expandtabs() - 문자열 내부의 tab을 공백 (스페이스)로 치환"
      ]
    },
    {
      "cell_type": "code",
      "metadata": {
        "id": "2M8QDNHN2qST"
      },
      "source": [
        "string = '\\thi\\thello\\tworld'\n",
        "\n",
        "print(string)\n",
        "print(string.expandtabs())"
      ],
      "execution_count": null,
      "outputs": []
    },
    {
      "cell_type": "markdown",
      "metadata": {
        "id": "98Bm2gsG2qSU"
      },
      "source": [
        "### <font color=red>4. 문자열 분할, 붙이기</font>\n",
        "* split() - 문자열을 공백 (스페이스, tab, 줄바꿈) 기준으로 분할하여 리스트로 반환   \n",
        "* join() :  여러개의 문자열을 구분자(separator) 문자열을 사이에 추가하여 붙이기"
      ]
    },
    {
      "cell_type": "code",
      "metadata": {
        "id": "PZDS1C0t2qSU"
      },
      "source": [
        "string = 'hi hello\\tworld\\ngood'\n",
        "\n",
        "print(string.split())"
      ],
      "execution_count": null,
      "outputs": []
    },
    {
      "cell_type": "code",
      "metadata": {
        "id": "xWfR1cLX2qSU"
      },
      "source": [
        "string = 'hi;hello;world'\n",
        "\n",
        "print(string.split(';'))"
      ],
      "execution_count": null,
      "outputs": []
    },
    {
      "cell_type": "code",
      "metadata": {
        "id": "OnF7Mbwq2qSU"
      },
      "source": [
        "mylist = ['I', 'Love', 'Python']\n",
        "\n",
        "mystring = '_'.join(mylist)\n",
        "print(mystring)"
      ],
      "execution_count": null,
      "outputs": []
    },
    {
      "cell_type": "markdown",
      "metadata": {
        "id": "aC0l7gmC2qSU"
      },
      "source": [
        "### 5.숫자, 문자 포함 여부 확인하는 메소드\n",
        "* isalnum() : 문자열이 알파벳과 숫자로만 이루어졌으면 True, 그렇지 않으면 False\n",
        "* isalpha() : 문자열이 알파벳(영어, 한글 등)으로만 이루어졌으면 True, 그렇지 않으면 False\n",
        "* isdigit() : 문자열이 숫자만 포함하고 있으면 True, 그렇지 않으면 False, isnumeric()과 동일\n",
        "* isnumeric() : 문자열이 숫자로만 이루어져 있으면 True, 그렇지 않으면 False, isdigit()과 동일\n",
        "* isdecimal() : 문자열이 10진수 문자이면 True, 그렇지 않으면 False\n",
        "* islower() : 문자열이 모두 소문자로만 되어있으면 True, 그렇지 않으면 False\n",
        "* isupper() : 문자열이 모두 대문자로만 되어있으면 True, 그렇지 않으면 False"
      ]
    },
    {
      "cell_type": "code",
      "metadata": {
        "id": "Q1Y5hkyu2qSV"
      },
      "source": [
        "num='111'\n",
        "fake='hundred'\n",
        "hanguel='한글'\n",
        "\n",
        "#isdigit 사용\n",
        "print(num.isdigit())\n",
        "print(fake.isdigit())\n",
        "print(hanguel.isdigit())\n",
        "\n",
        "print('--------------------------')\n",
        "\n",
        "#isalpha 사용\n",
        "print(num.isalpha())\n",
        "print(fake.isalpha())\n",
        "print(hanguel.isalpha())"
      ],
      "execution_count": null,
      "outputs": []
    },
    {
      "cell_type": "markdown",
      "metadata": {
        "id": "JvZ1BppI2qSV"
      },
      "source": [
        "### 6. string module\n",
        "\n",
        "* import string 이후 사용가능  \n",
        "1. string.digits\n",
        "2. string.ascii_letters\n",
        "3. string.ascii_lowercase\n",
        "4. string.ascii_uppercase"
      ]
    },
    {
      "cell_type": "code",
      "metadata": {
        "id": "TGk5uBj02qSV"
      },
      "source": [
        "import string\n",
        "\n",
        "print(string.digits)\n",
        "print(string.ascii_letters)\n",
        "print(string.ascii_lowercase)\n",
        "print(string.ascii_uppercase)"
      ],
      "execution_count": null,
      "outputs": []
    }
  ]
}